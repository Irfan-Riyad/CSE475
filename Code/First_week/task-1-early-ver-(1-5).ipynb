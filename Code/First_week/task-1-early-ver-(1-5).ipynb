{
 "cells": [
  {
   "cell_type": "markdown",
   "id": "6e50e78b",
   "metadata": {
    "papermill": {
     "duration": 0.004896,
     "end_time": "2025-10-14T11:14:36.082374",
     "exception": false,
     "start_time": "2025-10-14T11:14:36.077478",
     "status": "completed"
    },
    "tags": []
   },
   "source": [
    "**Setup**"
   ]
  },
  {
   "cell_type": "code",
   "execution_count": 1,
   "id": "892c663f",
   "metadata": {
    "execution": {
     "iopub.execute_input": "2025-10-14T11:14:36.091973Z",
     "iopub.status.busy": "2025-10-14T11:14:36.091676Z",
     "iopub.status.idle": "2025-10-14T11:14:36.671927Z",
     "shell.execute_reply": "2025-10-14T11:14:36.671043Z"
    },
    "papermill": {
     "duration": 0.586555,
     "end_time": "2025-10-14T11:14:36.673301",
     "exception": false,
     "start_time": "2025-10-14T11:14:36.086746",
     "status": "completed"
    },
    "tags": []
   },
   "outputs": [
    {
     "name": "stdout",
     "output_type": "stream",
     "text": [
      "Path to dataset files: /kaggle/input/ai-medleafx\n"
     ]
    }
   ],
   "source": [
    "import kagglehub\n",
    "path1 = kagglehub.dataset_download(\"mdriyadhossain/ai-medleafx\")\n",
    "\n",
    "print(\"Path to dataset files:\", path1)"
   ]
  },
  {
   "cell_type": "code",
   "execution_count": 2,
   "id": "7451c703",
   "metadata": {
    "execution": {
     "iopub.execute_input": "2025-10-14T11:14:36.685169Z",
     "iopub.status.busy": "2025-10-14T11:14:36.684932Z",
     "iopub.status.idle": "2025-10-14T11:14:36.958377Z",
     "shell.execute_reply": "2025-10-14T11:14:36.957662Z"
    },
    "papermill": {
     "duration": 0.280299,
     "end_time": "2025-10-14T11:14:36.959637",
     "exception": false,
     "start_time": "2025-10-14T11:14:36.679338",
     "status": "completed"
    },
    "tags": []
   },
   "outputs": [
    {
     "name": "stdout",
     "output_type": "stream",
     "text": [
      "Path to dataset files: /kaggle/input/ai-medleafx-augmented\n"
     ]
    }
   ],
   "source": [
    "import kagglehub\n",
    "path2 = kagglehub.dataset_download(\"mdriyadhossain/ai-medleafx-augmented\")\n",
    "\n",
    "print(\"Path to dataset files:\", path2)"
   ]
  },
  {
   "cell_type": "markdown",
   "id": "44c84178",
   "metadata": {
    "papermill": {
     "duration": 0.003964,
     "end_time": "2025-10-14T11:14:36.967973",
     "exception": false,
     "start_time": "2025-10-14T11:14:36.964009",
     "status": "completed"
    },
    "tags": []
   },
   "source": [
    "**Import**"
   ]
  },
  {
   "cell_type": "code",
   "execution_count": 3,
   "id": "e8fa3fbc",
   "metadata": {
    "execution": {
     "iopub.execute_input": "2025-10-14T11:14:36.976988Z",
     "iopub.status.busy": "2025-10-14T11:14:36.976754Z",
     "iopub.status.idle": "2025-10-14T11:14:40.180143Z",
     "shell.execute_reply": "2025-10-14T11:14:40.179351Z"
    },
    "papermill": {
     "duration": 3.209656,
     "end_time": "2025-10-14T11:14:40.181676",
     "exception": false,
     "start_time": "2025-10-14T11:14:36.972020",
     "status": "completed"
    },
    "tags": []
   },
   "outputs": [],
   "source": [
    "import cv2, numpy as np, pandas as pd, matplotlib.pyplot as plt\n",
    "from pathlib import Path\n",
    "from tqdm import tqdm\n",
    "from PIL import Image\n",
    "import imagehash, seaborn as sns\n",
    "\n",
    "base = Path('/kaggle/input/ai-medleafx/Resized Image')\n",
    "sns.set(style='whitegrid')\n"
   ]
  },
  {
   "cell_type": "markdown",
   "id": "44c0719e",
   "metadata": {
    "papermill": {
     "duration": 0.003822,
     "end_time": "2025-10-14T11:14:40.189828",
     "exception": false,
     "start_time": "2025-10-14T11:14:40.186006",
     "status": "completed"
    },
    "tags": []
   },
   "source": [
    "**Gather Paths**"
   ]
  },
  {
   "cell_type": "code",
   "execution_count": 4,
   "id": "5daaa9f3",
   "metadata": {
    "execution": {
     "iopub.execute_input": "2025-10-14T11:14:40.199625Z",
     "iopub.status.busy": "2025-10-14T11:14:40.198794Z",
     "iopub.status.idle": "2025-10-14T11:14:40.747604Z",
     "shell.execute_reply": "2025-10-14T11:14:40.746713Z"
    },
    "papermill": {
     "duration": 0.554703,
     "end_time": "2025-10-14T11:14:40.748976",
     "exception": false,
     "start_time": "2025-10-14T11:14:40.194273",
     "status": "completed"
    },
    "tags": []
   },
   "outputs": [
    {
     "name": "stdout",
     "output_type": "stream",
     "text": [
      "class\n",
      "Bacterial Spot    1281\n",
      "Healthy Leaf      2842\n",
      "Powdery Mildew     854\n",
      "Shot Hole         1359\n",
      "Shot Hole Leaf     834\n",
      "Yellow Leaf       1668\n",
      "dtype: int64\n"
     ]
    }
   ],
   "source": [
    "paths = []\n",
    "for src in base.iterdir():\n",
    "    for cls in src.iterdir():\n",
    "        for img in cls.glob('*.jpg'):\n",
    "            paths.append((str(img), src.name, cls.name))\n",
    "df = pd.DataFrame(paths, columns=['path','source','class'])\n",
    "print(df.groupby('class').size())\n"
   ]
  },
  {
   "cell_type": "markdown",
   "id": "e5d94e48",
   "metadata": {
    "papermill": {
     "duration": 0.00388,
     "end_time": "2025-10-14T11:14:40.757269",
     "exception": false,
     "start_time": "2025-10-14T11:14:40.753389",
     "status": "completed"
    },
    "tags": []
   },
   "source": [
    "**Extract Core Stats**"
   ]
  },
  {
   "cell_type": "code",
   "execution_count": 5,
   "id": "9fca4b72",
   "metadata": {
    "execution": {
     "iopub.execute_input": "2025-10-14T11:14:40.767096Z",
     "iopub.status.busy": "2025-10-14T11:14:40.766375Z",
     "iopub.status.idle": "2025-10-14T11:29:55.561580Z",
     "shell.execute_reply": "2025-10-14T11:29:55.560557Z"
    },
    "papermill": {
     "duration": 914.801712,
     "end_time": "2025-10-14T11:29:55.563184",
     "exception": false,
     "start_time": "2025-10-14T11:14:40.761472",
     "status": "completed"
    },
    "tags": []
   },
   "outputs": [
    {
     "name": "stderr",
     "output_type": "stream",
     "text": [
      "100%|██████████| 8838/8838 [15:14<00:00,  9.66it/s]\n"
     ]
    }
   ],
   "source": [
    "rows=[]\n",
    "for p,s,c in tqdm(paths):\n",
    "    img = cv2.imread(p)\n",
    "    if img is None: continue\n",
    "    h,w = img.shape[:2]\n",
    "    rgb = cv2.cvtColor(img, cv2.COLOR_BGR2RGB)\n",
    "    hsv = cv2.cvtColor(rgb, cv2.COLOR_RGB2HSV)\n",
    "    gray = cv2.cvtColor(rgb, cv2.COLOR_RGB2GRAY)\n",
    "\n",
    "    mean_rgb = rgb.mean(axis=(0,1)); std_rgb = rgb.std(axis=(0,1))\n",
    "    mean_hsv = hsv.mean(axis=(0,1)); std_hsv = hsv.std(axis=(0,1))\n",
    "    brightness, contrast = mean_hsv[2], std_hsv[2]\n",
    "    sat_low = np.mean(hsv[:,:,1]<=1); sat_high = np.mean(hsv[:,:,1]>=254)\n",
    "    sharp = cv2.Laplacian(gray, cv2.CV_64F).var()\n",
    "    blur = cv2.GaussianBlur(gray,(5,5),0)\n",
    "    noise = (gray-blur).std()\n",
    "    phash = str(imagehash.phash(Image.fromarray(rgb)))\n",
    "    rows.append([p,s,c,w,h,w/h,*mean_rgb,*std_rgb,*mean_hsv,*std_hsv,brightness,contrast,sat_low,sat_high,sharp,noise,phash])\n",
    "\n",
    "cols = ['path','source','class','w','h','aspect','r_mean','g_mean','b_mean','r_std','g_std','b_std','h_mean','s_mean','v_mean','h_std','s_std','v_std','brightness','contrast','sat_low','sat_high','sharp','noise','phash']\n",
    "stats = pd.DataFrame(rows, columns=cols)\n"
   ]
  },
  {
   "cell_type": "markdown",
   "id": "072991bb",
   "metadata": {
    "papermill": {
     "duration": 0.282907,
     "end_time": "2025-10-14T11:29:56.132653",
     "exception": false,
     "start_time": "2025-10-14T11:29:55.849746",
     "status": "completed"
    },
    "tags": []
   },
   "source": [
    "**RGB/HSV Distributions**"
   ]
  },
  {
   "cell_type": "code",
   "execution_count": 6,
   "id": "4335b614",
   "metadata": {
    "execution": {
     "iopub.execute_input": "2025-10-14T11:29:56.699501Z",
     "iopub.status.busy": "2025-10-14T11:29:56.699037Z",
     "iopub.status.idle": "2025-10-14T11:29:57.889481Z",
     "shell.execute_reply": "2025-10-14T11:29:57.888739Z"
    },
    "papermill": {
     "duration": 1.478678,
     "end_time": "2025-10-14T11:29:57.890853",
     "exception": false,
     "start_time": "2025-10-14T11:29:56.412175",
     "status": "completed"
    },
    "tags": []
   },
   "outputs": [
    {
     "name": "stderr",
     "output_type": "stream",
     "text": [
      "/usr/local/lib/python3.11/dist-packages/seaborn/_oldcore.py:1119: FutureWarning: use_inf_as_na option is deprecated and will be removed in a future version. Convert inf values to NaN before operating instead.\n",
      "  with pd.option_context('mode.use_inf_as_na', True):\n",
      "/usr/local/lib/python3.11/dist-packages/seaborn/_oldcore.py:1075: FutureWarning: When grouping with a length-1 list-like, you will need to pass a length-1 tuple to get_group in a future version of pandas. Pass `(name,)` instead of `name` to silence this warning.\n",
      "  data_subset = grouped_data.get_group(pd_key)\n",
      "/usr/local/lib/python3.11/dist-packages/seaborn/_oldcore.py:1075: FutureWarning: When grouping with a length-1 list-like, you will need to pass a length-1 tuple to get_group in a future version of pandas. Pass `(name,)` instead of `name` to silence this warning.\n",
      "  data_subset = grouped_data.get_group(pd_key)\n",
      "/usr/local/lib/python3.11/dist-packages/seaborn/_oldcore.py:1075: FutureWarning: When grouping with a length-1 list-like, you will need to pass a length-1 tuple to get_group in a future version of pandas. Pass `(name,)` instead of `name` to silence this warning.\n",
      "  data_subset = grouped_data.get_group(pd_key)\n",
      "/usr/local/lib/python3.11/dist-packages/seaborn/_oldcore.py:1075: FutureWarning: When grouping with a length-1 list-like, you will need to pass a length-1 tuple to get_group in a future version of pandas. Pass `(name,)` instead of `name` to silence this warning.\n",
      "  data_subset = grouped_data.get_group(pd_key)\n",
      "/usr/local/lib/python3.11/dist-packages/seaborn/_oldcore.py:1119: FutureWarning: use_inf_as_na option is deprecated and will be removed in a future version. Convert inf values to NaN before operating instead.\n",
      "  with pd.option_context('mode.use_inf_as_na', True):\n",
      "/usr/local/lib/python3.11/dist-packages/seaborn/_oldcore.py:1075: FutureWarning: When grouping with a length-1 list-like, you will need to pass a length-1 tuple to get_group in a future version of pandas. Pass `(name,)` instead of `name` to silence this warning.\n",
      "  data_subset = grouped_data.get_group(pd_key)\n",
      "/usr/local/lib/python3.11/dist-packages/seaborn/_oldcore.py:1075: FutureWarning: When grouping with a length-1 list-like, you will need to pass a length-1 tuple to get_group in a future version of pandas. Pass `(name,)` instead of `name` to silence this warning.\n",
      "  data_subset = grouped_data.get_group(pd_key)\n",
      "/usr/local/lib/python3.11/dist-packages/seaborn/_oldcore.py:1075: FutureWarning: When grouping with a length-1 list-like, you will need to pass a length-1 tuple to get_group in a future version of pandas. Pass `(name,)` instead of `name` to silence this warning.\n",
      "  data_subset = grouped_data.get_group(pd_key)\n",
      "/usr/local/lib/python3.11/dist-packages/seaborn/_oldcore.py:1075: FutureWarning: When grouping with a length-1 list-like, you will need to pass a length-1 tuple to get_group in a future version of pandas. Pass `(name,)` instead of `name` to silence this warning.\n",
      "  data_subset = grouped_data.get_group(pd_key)\n"
     ]
    },
    {
     "data": {
      "image/png": "[encoded data removed]",
      "text/plain": [
       "<Figure size 1200x500 with 2 Axes>"
      ]
     },
     "metadata": {},
     "output_type": "display_data"
    }
   ],
   "source": [
    "fig,ax = plt.subplots(1,2,figsize=(12,5))\n",
    "sns.histplot(stats[['r_mean','g_mean','b_mean']].melt(),x='value',hue='variable',ax=ax[0])\n",
    "ax[0].set_title('RGB Mean Distribution')\n",
    "sns.histplot(stats[['h_mean','s_mean','v_mean']].melt(),x='value',hue='variable',ax=ax[1])\n",
    "ax[1].set_title('HSV Mean Distribution')\n",
    "plt.show()\n"
   ]
  },
  {
   "cell_type": "markdown",
   "id": "48cc0b69",
   "metadata": {
    "papermill": {
     "duration": 0.427486,
     "end_time": "2025-10-14T11:29:58.609880",
     "exception": false,
     "start_time": "2025-10-14T11:29:58.182394",
     "status": "completed"
    },
    "tags": []
   },
   "source": [
    "**Color Channel Analysis of MedLeafX Dataset**\n",
    "\n",
    "We performed an exploratory data analysis (EDA) of the color characteristics of the images in the MedLeafX dataset. Specifically, we analyzed the mean color values in both RGB and HSV color spaces.\n",
    "\n",
    "**RGB Mean Distribution**\n",
    "\n",
    "The left plot shows the distribution of the mean Red, Green, and Blue (RGB) values across all images.\n",
    "\n",
    "**Observation:**\n",
    "\n",
    "R_mean (Red) values are centered around 160–180.\n",
    "\n",
    "G_mean (Green) values cluster around 150–170.\n",
    "\n",
    "B_mean (Blue) values are slightly lower, mostly around 140–160.\n",
    "\n",
    "**Interpretation:**\n",
    "\n",
    "The images have a generally warm tone, with red dominating slightly over blue.\n",
    "\n",
    "This is typical for leaf datasets where green is strong but some images may include brown or red shades due to leaf disease or variation.\n",
    "\n"
   ]
  },
  {
   "cell_type": "markdown",
   "id": "22d89cb6",
   "metadata": {
    "papermill": {
     "duration": 0.283532,
     "end_time": "2025-10-14T11:29:59.182924",
     "exception": false,
     "start_time": "2025-10-14T11:29:58.899392",
     "status": "completed"
    },
    "tags": []
   },
   "source": [
    "**HSV Mean Distribution**\n",
    "\n",
    "The right plot shows the distribution of mean Hue (H), Saturation (S), and Value (V) for all images.\n",
    "\n",
    "**Observation:**\n",
    "\n",
    "H_mean (Hue) and S_mean (Saturation) are mostly concentrated at lower values (0–50), indicating that most pixels are in a greenish hue range but not very saturated.\n",
    "\n",
    "V_mean (Value / brightness) is higher, mostly around 150–200, indicating overall bright images.\n",
    "\n",
    "**Interpretation:**\n",
    "\n",
    "The dataset has fairly bright leaf images with moderate color intensity.\n",
    "\n",
    "Low Hue & Saturation but high Value suggests a dominance of lighter green tones."
   ]
  },
  {
   "cell_type": "markdown",
   "id": "eca285dc",
   "metadata": {
    "papermill": {
     "duration": 0.283458,
     "end_time": "2025-10-14T11:29:59.752863",
     "exception": false,
     "start_time": "2025-10-14T11:29:59.469405",
     "status": "completed"
    },
    "tags": []
   },
   "source": [
    "**Brightness / Contrast / Saturation Clipping**"
   ]
  },
  {
   "cell_type": "code",
   "execution_count": 7,
   "id": "7de322d8",
   "metadata": {
    "execution": {
     "iopub.execute_input": "2025-10-14T11:30:00.318562Z",
     "iopub.status.busy": "2025-10-14T11:30:00.317784Z",
     "iopub.status.idle": "2025-10-14T11:30:00.883021Z",
     "shell.execute_reply": "2025-10-14T11:30:00.882294Z"
    },
    "papermill": {
     "duration": 0.847458,
     "end_time": "2025-10-14T11:30:00.884485",
     "exception": false,
     "start_time": "2025-10-14T11:30:00.037027",
     "status": "completed"
    },
    "tags": []
   },
   "outputs": [
    {
     "data": {
      "image/png": "[encoded data removed]",
      "text/plain": [
       "<Figure size 1500x500 with 3 Axes>"
      ]
     },
     "metadata": {},
     "output_type": "display_data"
    }
   ],
   "source": [
    "fig,ax = plt.subplots(1,3,figsize=(15,5))\n",
    "sns.boxplot(y=stats['brightness'],ax=ax[0]); ax[0].set_title('Brightness Spread')\n",
    "sns.boxplot(y=stats['contrast'],ax=ax[1]); ax[1].set_title('Contrast Spread')\n",
    "sns.scatterplot(x='sat_low',y='sat_high',data=stats,ax=ax[2]); ax[2].set_title('Saturation Clipping')\n",
    "plt.show()\n"
   ]
  },
  {
   "cell_type": "markdown",
   "id": "4ac984b0",
   "metadata": {
    "papermill": {
     "duration": 0.289131,
     "end_time": "2025-10-14T11:30:01.568231",
     "exception": false,
     "start_time": "2025-10-14T11:30:01.279100",
     "status": "completed"
    },
    "tags": []
   },
   "source": [
    "**Brightness Spread (Left Boxplot)**\n",
    "\n",
    "\n",
    "**Interpretation:**\n",
    "\n",
    "The median brightness is around 165–170, meaning most images are moderately bright.\n",
    "\n",
    "There are many outliers on both ends — some images are too dark (below 100) and some too bright (above 200).\n",
    "\n",
    "This suggests uneven lighting conditions or varying exposure in the dataset.\n",
    "\n",
    "**Insight:** If this dataset is for machine learning or image recognition, normalization of brightness might be needed to ensure consistent model performance."
   ]
  },
  {
   "cell_type": "markdown",
   "id": "a61c6423",
   "metadata": {
    "papermill": {
     "duration": 0.285634,
     "end_time": "2025-10-14T11:30:02.138410",
     "exception": false,
     "start_time": "2025-10-14T11:30:01.852776",
     "status": "completed"
    },
    "tags": []
   },
   "source": [
    "**Contrast Spread (Middle Boxplot)**\n",
    "\n",
    "**Interpretation:**\n",
    "\n",
    "The median contrast is around 40, with most values between 30–50.\n",
    "\n",
    "A few outliers have very low contrast (~10–15) or very high (~70+).\n",
    "\n",
    "Indicates that some images are washed out or overly sharp, but most have decent contrast.\n",
    "\n",
    "**Insight:** Contrast normalization or histogram equalization might improve overall dataset uniformity."
   ]
  },
  {
   "cell_type": "markdown",
   "id": "df947e6a",
   "metadata": {
    "papermill": {
     "duration": 0.28696,
     "end_time": "2025-10-14T11:30:02.705456",
     "exception": false,
     "start_time": "2025-10-14T11:30:02.418496",
     "status": "completed"
    },
    "tags": []
   },
   "source": [
    "**Saturation Clipping (Right Scatter Plot)**\n",
    "\n",
    "**Feature:** Saturation clipping (sat_low vs sat_high)\n",
    "\n",
    "sat_low: Fraction of pixels with very low saturation (nearly grayscale).\n",
    "\n",
    "sat_high: Fraction of pixels with extremely high saturation (overly vivid colors).\n",
    "\n",
    "**Interpretation:**\n",
    "\n",
    "Most points are clustered near (0, 0) — meaning few images have excessive saturation issues.\n",
    "\n",
    "A few images have slightly higher sat_low values, implying they are desaturated or dull.\n",
    "\n",
    "**Insight:** The dataset generally has balanced color saturation, with minor cases of desaturation."
   ]
  },
  {
   "cell_type": "markdown",
   "id": "9102233d",
   "metadata": {
    "papermill": {
     "duration": 0.284197,
     "end_time": "2025-10-14T11:30:03.271411",
     "exception": false,
     "start_time": "2025-10-14T11:30:02.987214",
     "status": "completed"
    },
    "tags": []
   },
   "source": [
    "**Resolution & Aspect Ratio**"
   ]
  },
  {
   "cell_type": "code",
   "execution_count": 8,
   "id": "c0da259e",
   "metadata": {
    "execution": {
     "iopub.execute_input": "2025-10-14T11:30:03.925556Z",
     "iopub.status.busy": "2025-10-14T11:30:03.925247Z",
     "iopub.status.idle": "2025-10-14T11:30:04.334213Z",
     "shell.execute_reply": "2025-10-14T11:30:04.333531Z"
    },
    "papermill": {
     "duration": 0.695997,
     "end_time": "2025-10-14T11:30:04.335538",
     "exception": false,
     "start_time": "2025-10-14T11:30:03.639541",
     "status": "completed"
    },
    "tags": []
   },
   "outputs": [
    {
     "name": "stderr",
     "output_type": "stream",
     "text": [
      "/usr/local/lib/python3.11/dist-packages/seaborn/_oldcore.py:1119: FutureWarning: use_inf_as_na option is deprecated and will be removed in a future version. Convert inf values to NaN before operating instead.\n",
      "  with pd.option_context('mode.use_inf_as_na', True):\n",
      "/usr/local/lib/python3.11/dist-packages/seaborn/_oldcore.py:1119: FutureWarning: use_inf_as_na option is deprecated and will be removed in a future version. Convert inf values to NaN before operating instead.\n",
      "  with pd.option_context('mode.use_inf_as_na', True):\n"
     ]
    },
    {
     "data": {
      "image/png": "[encoded data removed]",
      "text/plain": [
       "<Figure size 1200x400 with 2 Axes>"
      ]
     },
     "metadata": {},
     "output_type": "display_data"
    }
   ],
   "source": [
    "fig, ax = plt.subplots(1,2,figsize=(12,4))\n",
    "sns.histplot(stats['w'], bins=30, ax=ax[0])\n",
    "ax[0].set_title(\"Width Distribution\")\n",
    "sns.histplot(stats['h'], bins=30, ax=ax[1])\n",
    "ax[1].set_title(\"Height Distribution\")\n",
    "plt.show()"
   ]
  },
  {
   "cell_type": "markdown",
   "id": "87523168",
   "metadata": {
    "papermill": {
     "duration": 0.282521,
     "end_time": "2025-10-14T11:30:04.901138",
     "exception": false,
     "start_time": "2025-10-14T11:30:04.618617",
     "status": "completed"
    },
    "tags": []
   },
   "source": [
    "This Histogram plot shows us that every image has exactly the same width and length which is 512x512 . "
   ]
  },
  {
   "cell_type": "markdown",
   "id": "64456037",
   "metadata": {
    "papermill": {
     "duration": 0.281344,
     "end_time": "2025-10-14T11:30:05.462829",
     "exception": false,
     "start_time": "2025-10-14T11:30:05.181485",
     "status": "completed"
    },
    "tags": []
   },
   "source": [
    "**Sharpness & Noise**"
   ]
  },
  {
   "cell_type": "code",
   "execution_count": 9,
   "id": "489c5fa1",
   "metadata": {
    "execution": {
     "iopub.execute_input": "2025-10-14T11:30:06.130072Z",
     "iopub.status.busy": "2025-10-14T11:30:06.129489Z",
     "iopub.status.idle": "2025-10-14T11:30:06.628216Z",
     "shell.execute_reply": "2025-10-14T11:30:06.627363Z"
    },
    "papermill": {
     "duration": 0.78702,
     "end_time": "2025-10-14T11:30:06.629591",
     "exception": false,
     "start_time": "2025-10-14T11:30:05.842571",
     "status": "completed"
    },
    "tags": []
   },
   "outputs": [
    {
     "name": "stderr",
     "output_type": "stream",
     "text": [
      "/usr/local/lib/python3.11/dist-packages/seaborn/_oldcore.py:1119: FutureWarning: use_inf_as_na option is deprecated and will be removed in a future version. Convert inf values to NaN before operating instead.\n",
      "  with pd.option_context('mode.use_inf_as_na', True):\n",
      "/usr/local/lib/python3.11/dist-packages/seaborn/_oldcore.py:1119: FutureWarning: use_inf_as_na option is deprecated and will be removed in a future version. Convert inf values to NaN before operating instead.\n",
      "  with pd.option_context('mode.use_inf_as_na', True):\n"
     ]
    },
    {
     "data": {
      "image/png": "[encoded data removed]",
      "text/plain": [
       "<Figure size 1200x500 with 2 Axes>"
      ]
     },
     "metadata": {},
     "output_type": "display_data"
    }
   ],
   "source": [
    "fig,ax=plt.subplots(1,2,figsize=(12,5))\n",
    "sns.histplot(stats['sharp'],bins=40,ax=ax[0]); ax[0].set_title('Sharpness (Laplacian Var)')\n",
    "sns.histplot(stats['noise'],bins=40,ax=ax[1]); ax[1].set_title('Noise Proxy')\n",
    "plt.show()\n"
   ]
  },
  {
   "cell_type": "markdown",
   "id": "88a5074b",
   "metadata": {
    "papermill": {
     "duration": 0.281639,
     "end_time": "2025-10-14T11:30:07.196705",
     "exception": false,
     "start_time": "2025-10-14T11:30:06.915066",
     "status": "completed"
    },
    "tags": []
   },
   "source": [
    "**Sharpness (Laplacian Variance) – Left Histogram**\n",
    "\n",
    "**Feature:** Sharpness (measured via Laplacian variance — a common edge-detection-based metric).\n",
    "\n",
    "**Interpretation:**\n",
    "\n",
    "The distribution is heavily right-skewed, meaning most images have low sharpness values, with a few having very high sharpness (outliers).\n",
    "\n",
    "A Laplacian variance near 0–500 indicates blurry or low-detail images, while higher values (e.g., >1000) mean clear, well-focused images.\n",
    "\n",
    "Since most data points lie in the lower range, your dataset likely includes many slightly blurred or low-detail images.\n",
    "\n",
    "**Insight:** It may be necessary to remove or enhance blurry samples for tasks that depend on fine texture or edge detail."
   ]
  },
  {
   "cell_type": "markdown",
   "id": "c767defb",
   "metadata": {
    "papermill": {
     "duration": 0.391881,
     "end_time": "2025-10-14T11:30:07.873116",
     "exception": false,
     "start_time": "2025-10-14T11:30:07.481235",
     "status": "completed"
    },
    "tags": []
   },
   "source": [
    "**Noise Proxy – Right Histogram**\n",
    "\n",
    "**Feature:** Noise level proxy (a numerical estimate of random pixel intensity variation).\n",
    "\n",
    "**Interpretation:**\n",
    "\n",
    "The distribution is narrow and roughly normal, centered around 120.\n",
    "\n",
    "This indicates that most images have consistent noise levels, with only a few being significantly noisier or smoother.\n",
    "\n",
    "The range (≈85–125) suggests low to moderate noise across the dataset.\n",
    "\n",
    "**Insight:** The dataset maintains a fairly uniform noise profile, so noise likely won’t strongly bias model performance."
   ]
  },
  {
   "cell_type": "markdown",
   "id": "51a0c984",
   "metadata": {
    "papermill": {
     "duration": 0.305354,
     "end_time": "2025-10-14T11:30:08.465135",
     "exception": false,
     "start_time": "2025-10-14T11:30:08.159781",
     "status": "completed"
    },
    "tags": []
   },
   "source": [
    "**White Balance (Gray-World Check)**"
   ]
  },
  {
   "cell_type": "code",
   "execution_count": 10,
   "id": "069a9577",
   "metadata": {
    "execution": {
     "iopub.execute_input": "2025-10-14T11:30:09.031681Z",
     "iopub.status.busy": "2025-10-14T11:30:09.030960Z",
     "iopub.status.idle": "2025-10-14T11:30:09.167006Z",
     "shell.execute_reply": "2025-10-14T11:30:09.166366Z"
    },
    "papermill": {
     "duration": 0.421783,
     "end_time": "2025-10-14T11:30:09.168549",
     "exception": false,
     "start_time": "2025-10-14T11:30:08.746766",
     "status": "completed"
    },
    "tags": []
   },
   "outputs": [
    {
     "data": {
      "image/png": "[encoded data removed]",
      "text/plain": [
       "<Figure size 640x480 with 1 Axes>"
      ]
     },
     "metadata": {},
     "output_type": "display_data"
    },
    {
     "name": "stdout",
     "output_type": "stream",
     "text": [
      "RGB mean ratio: r_mean    1.026823\n",
      "g_mean    1.009724\n",
      "b_mean    0.963452\n",
      "dtype: float64\n"
     ]
    }
   ],
   "source": [
    "avg_rgb = stats[['r_mean','g_mean','b_mean']].mean()\n",
    "plt.bar(['R','G','B'], avg_rgb); plt.title('White Balance Check'); plt.show()\n",
    "print('RGB mean ratio:', avg_rgb/avg_rgb.mean())\n"
   ]
  },
  {
   "cell_type": "markdown",
   "id": "52a2704c",
   "metadata": {
    "papermill": {
     "duration": 0.282979,
     "end_time": "2025-10-14T11:30:09.741373",
     "exception": false,
     "start_time": "2025-10-14T11:30:09.458394",
     "status": "completed"
    },
    "tags": []
   },
   "source": [
    "**Insight:**\n",
    "The dataset shows a minor red-green dominance and a slight blue deficiency, which could give images a warm (reddish-yellow) tint. However, the deviation is relatively small and unlikely to cause major visual distortions. Color balance is mostly consistent across the dataset, with only a slight warm bias due to stronger red and green components so white balance is close to neutral.\n"
   ]
  },
  {
   "cell_type": "markdown",
   "id": "e39ccd0d",
   "metadata": {
    "papermill": {
     "duration": 0.281709,
     "end_time": "2025-10-14T11:30:10.406779",
     "exception": false,
     "start_time": "2025-10-14T11:30:10.125070",
     "status": "completed"
    },
    "tags": []
   },
   "source": [
    "**Duplicate Detection**"
   ]
  },
  {
   "cell_type": "code",
   "execution_count": 11,
   "id": "14b1db67",
   "metadata": {
    "execution": {
     "iopub.execute_input": "2025-10-14T11:30:10.974484Z",
     "iopub.status.busy": "2025-10-14T11:30:10.973904Z",
     "iopub.status.idle": "2025-10-14T11:30:11.004453Z",
     "shell.execute_reply": "2025-10-14T11:30:11.003747Z"
    },
    "papermill": {
     "duration": 0.313831,
     "end_time": "2025-10-14T11:30:11.005736",
     "exception": false,
     "start_time": "2025-10-14T11:30:10.691905",
     "status": "completed"
    },
    "tags": []
   },
   "outputs": [
    {
     "data": {
      "text/html": [
       "<div>\n",
       "<style scoped>\n",
       "    .dataframe tbody tr th:only-of-type {\n",
       "        vertical-align: middle;\n",
       "    }\n",
       "\n",
       "    .dataframe tbody tr th {\n",
       "        vertical-align: top;\n",
       "    }\n",
       "\n",
       "    .dataframe thead th {\n",
       "        text-align: right;\n",
       "    }\n",
       "</style>\n",
       "<table border=\"1\" class=\"dataframe\">\n",
       "  <thead>\n",
       "    <tr style=\"text-align: right;\">\n",
       "      <th></th>\n",
       "      <th>path</th>\n",
       "      <th>source</th>\n",
       "      <th>class</th>\n",
       "      <th>w</th>\n",
       "      <th>h</th>\n",
       "      <th>aspect</th>\n",
       "      <th>r_mean</th>\n",
       "      <th>g_mean</th>\n",
       "      <th>b_mean</th>\n",
       "      <th>r_std</th>\n",
       "      <th>...</th>\n",
       "      <th>h_std</th>\n",
       "      <th>s_std</th>\n",
       "      <th>v_std</th>\n",
       "      <th>brightness</th>\n",
       "      <th>contrast</th>\n",
       "      <th>sat_low</th>\n",
       "      <th>sat_high</th>\n",
       "      <th>sharp</th>\n",
       "      <th>noise</th>\n",
       "      <th>phash</th>\n",
       "    </tr>\n",
       "  </thead>\n",
       "  <tbody>\n",
       "    <tr>\n",
       "      <th>66</th>\n",
       "      <td>/kaggle/input/ai-medleafx/Resized Image/Sojina...</td>\n",
       "      <td>Sojina</td>\n",
       "      <td>Yellow Leaf</td>\n",
       "      <td>512</td>\n",
       "      <td>512</td>\n",
       "      <td>1.0</td>\n",
       "      <td>160.028275</td>\n",
       "      <td>156.220810</td>\n",
       "      <td>149.785942</td>\n",
       "      <td>14.953594</td>\n",
       "      <td>...</td>\n",
       "      <td>2.228038</td>\n",
       "      <td>17.617027</td>\n",
       "      <td>14.953624</td>\n",
       "      <td>160.028305</td>\n",
       "      <td>14.953624</td>\n",
       "      <td>0.000000</td>\n",
       "      <td>0.000008</td>\n",
       "      <td>150.754179</td>\n",
       "      <td>122.804579</td>\n",
       "      <td>868c59f366cc9933</td>\n",
       "    </tr>\n",
       "    <tr>\n",
       "      <th>163</th>\n",
       "      <td>/kaggle/input/ai-medleafx/Resized Image/Sojina...</td>\n",
       "      <td>Sojina</td>\n",
       "      <td>Yellow Leaf</td>\n",
       "      <td>512</td>\n",
       "      <td>512</td>\n",
       "      <td>1.0</td>\n",
       "      <td>159.226933</td>\n",
       "      <td>155.918411</td>\n",
       "      <td>149.662823</td>\n",
       "      <td>15.953504</td>\n",
       "      <td>...</td>\n",
       "      <td>2.741270</td>\n",
       "      <td>21.067908</td>\n",
       "      <td>15.953264</td>\n",
       "      <td>159.227245</td>\n",
       "      <td>15.953264</td>\n",
       "      <td>0.000000</td>\n",
       "      <td>0.000034</td>\n",
       "      <td>179.011365</td>\n",
       "      <td>122.978653</td>\n",
       "      <td>868c59f366cc9933</td>\n",
       "    </tr>\n",
       "    <tr>\n",
       "      <th>564</th>\n",
       "      <td>/kaggle/input/ai-medleafx/Resized Image/Sojina...</td>\n",
       "      <td>Sojina</td>\n",
       "      <td>Yellow Leaf</td>\n",
       "      <td>512</td>\n",
       "      <td>512</td>\n",
       "      <td>1.0</td>\n",
       "      <td>156.369686</td>\n",
       "      <td>152.919476</td>\n",
       "      <td>146.892197</td>\n",
       "      <td>16.048074</td>\n",
       "      <td>...</td>\n",
       "      <td>2.554639</td>\n",
       "      <td>18.383691</td>\n",
       "      <td>16.048339</td>\n",
       "      <td>156.370148</td>\n",
       "      <td>16.048339</td>\n",
       "      <td>0.000000</td>\n",
       "      <td>0.000092</td>\n",
       "      <td>200.973521</td>\n",
       "      <td>122.894219</td>\n",
       "      <td>868c59f366cc9933</td>\n",
       "    </tr>\n",
       "    <tr>\n",
       "      <th>3456</th>\n",
       "      <td>/kaggle/input/ai-medleafx/Resized Image/Neem/H...</td>\n",
       "      <td>Neem</td>\n",
       "      <td>Healthy Leaf</td>\n",
       "      <td>512</td>\n",
       "      <td>512</td>\n",
       "      <td>1.0</td>\n",
       "      <td>177.550468</td>\n",
       "      <td>176.120110</td>\n",
       "      <td>165.834450</td>\n",
       "      <td>44.495581</td>\n",
       "      <td>...</td>\n",
       "      <td>4.340096</td>\n",
       "      <td>21.134282</td>\n",
       "      <td>43.544244</td>\n",
       "      <td>177.936016</td>\n",
       "      <td>43.544244</td>\n",
       "      <td>0.000000</td>\n",
       "      <td>0.000031</td>\n",
       "      <td>253.108419</td>\n",
       "      <td>120.907624</td>\n",
       "      <td>90904fcf3031cfcf</td>\n",
       "    </tr>\n",
       "    <tr>\n",
       "      <th>2756</th>\n",
       "      <td>/kaggle/input/ai-medleafx/Resized Image/Neem/Y...</td>\n",
       "      <td>Neem</td>\n",
       "      <td>Yellow Leaf</td>\n",
       "      <td>512</td>\n",
       "      <td>512</td>\n",
       "      <td>1.0</td>\n",
       "      <td>194.363499</td>\n",
       "      <td>189.378063</td>\n",
       "      <td>182.123089</td>\n",
       "      <td>29.891815</td>\n",
       "      <td>...</td>\n",
       "      <td>8.257076</td>\n",
       "      <td>28.132905</td>\n",
       "      <td>29.441090</td>\n",
       "      <td>194.516464</td>\n",
       "      <td>29.441090</td>\n",
       "      <td>0.000000</td>\n",
       "      <td>0.000015</td>\n",
       "      <td>177.216589</td>\n",
       "      <td>119.145708</td>\n",
       "      <td>90904fcf3031cfcf</td>\n",
       "    </tr>\n",
       "    <tr>\n",
       "      <th>5116</th>\n",
       "      <td>/kaggle/input/ai-medleafx/Resized Image/Neem/S...</td>\n",
       "      <td>Neem</td>\n",
       "      <td>Shot Hole Leaf</td>\n",
       "      <td>512</td>\n",
       "      <td>512</td>\n",
       "      <td>1.0</td>\n",
       "      <td>178.933041</td>\n",
       "      <td>174.906815</td>\n",
       "      <td>166.188545</td>\n",
       "      <td>36.900441</td>\n",
       "      <td>...</td>\n",
       "      <td>4.699028</td>\n",
       "      <td>17.843400</td>\n",
       "      <td>36.260684</td>\n",
       "      <td>179.137226</td>\n",
       "      <td>36.260684</td>\n",
       "      <td>0.000000</td>\n",
       "      <td>0.000000</td>\n",
       "      <td>233.425481</td>\n",
       "      <td>120.105944</td>\n",
       "      <td>90c5c73c38c3ce3d</td>\n",
       "    </tr>\n",
       "    <tr>\n",
       "      <th>5137</th>\n",
       "      <td>/kaggle/input/ai-medleafx/Resized Image/Neem/S...</td>\n",
       "      <td>Neem</td>\n",
       "      <td>Shot Hole Leaf</td>\n",
       "      <td>512</td>\n",
       "      <td>512</td>\n",
       "      <td>1.0</td>\n",
       "      <td>178.951237</td>\n",
       "      <td>175.286026</td>\n",
       "      <td>166.170212</td>\n",
       "      <td>36.734594</td>\n",
       "      <td>...</td>\n",
       "      <td>4.332454</td>\n",
       "      <td>18.030253</td>\n",
       "      <td>36.041645</td>\n",
       "      <td>179.174622</td>\n",
       "      <td>36.041645</td>\n",
       "      <td>0.000000</td>\n",
       "      <td>0.000000</td>\n",
       "      <td>237.626122</td>\n",
       "      <td>120.765816</td>\n",
       "      <td>90c5c73c38c3ce3d</td>\n",
       "    </tr>\n",
       "    <tr>\n",
       "      <th>4653</th>\n",
       "      <td>/kaggle/input/ai-medleafx/Resized Image/Neem/S...</td>\n",
       "      <td>Neem</td>\n",
       "      <td>Shot Hole Leaf</td>\n",
       "      <td>512</td>\n",
       "      <td>512</td>\n",
       "      <td>1.0</td>\n",
       "      <td>174.176731</td>\n",
       "      <td>173.208309</td>\n",
       "      <td>166.241268</td>\n",
       "      <td>38.919710</td>\n",
       "      <td>...</td>\n",
       "      <td>5.630523</td>\n",
       "      <td>24.262923</td>\n",
       "      <td>37.332015</td>\n",
       "      <td>174.813869</td>\n",
       "      <td>37.332015</td>\n",
       "      <td>0.000015</td>\n",
       "      <td>0.000000</td>\n",
       "      <td>204.823730</td>\n",
       "      <td>121.056272</td>\n",
       "      <td>9184cce33398cfcd</td>\n",
       "    </tr>\n",
       "    <tr>\n",
       "      <th>4996</th>\n",
       "      <td>/kaggle/input/ai-medleafx/Resized Image/Neem/S...</td>\n",
       "      <td>Neem</td>\n",
       "      <td>Shot Hole Leaf</td>\n",
       "      <td>512</td>\n",
       "      <td>512</td>\n",
       "      <td>1.0</td>\n",
       "      <td>176.345886</td>\n",
       "      <td>172.500069</td>\n",
       "      <td>165.075932</td>\n",
       "      <td>37.685482</td>\n",
       "      <td>...</td>\n",
       "      <td>5.960229</td>\n",
       "      <td>23.839955</td>\n",
       "      <td>36.331709</td>\n",
       "      <td>176.865555</td>\n",
       "      <td>36.331709</td>\n",
       "      <td>0.000053</td>\n",
       "      <td>0.000000</td>\n",
       "      <td>166.904068</td>\n",
       "      <td>119.178679</td>\n",
       "      <td>9184cce33398cfcd</td>\n",
       "    </tr>\n",
       "    <tr>\n",
       "      <th>3133</th>\n",
       "      <td>/kaggle/input/ai-medleafx/Resized Image/Neem/Y...</td>\n",
       "      <td>Neem</td>\n",
       "      <td>Yellow Leaf</td>\n",
       "      <td>512</td>\n",
       "      <td>512</td>\n",
       "      <td>1.0</td>\n",
       "      <td>155.108868</td>\n",
       "      <td>149.782352</td>\n",
       "      <td>142.972317</td>\n",
       "      <td>23.537562</td>\n",
       "      <td>...</td>\n",
       "      <td>5.302045</td>\n",
       "      <td>33.414398</td>\n",
       "      <td>23.423040</td>\n",
       "      <td>155.143303</td>\n",
       "      <td>23.423040</td>\n",
       "      <td>0.000000</td>\n",
       "      <td>0.000027</td>\n",
       "      <td>115.505124</td>\n",
       "      <td>117.067940</td>\n",
       "      <td>9fe0c01f3fe0c01f</td>\n",
       "    </tr>\n",
       "  </tbody>\n",
       "</table>\n",
       "<p>10 rows × 25 columns</p>\n",
       "</div>"
      ],
      "text/plain": [
       "                                                   path  source  \\\n",
       "66    /kaggle/input/ai-medleafx/Resized Image/Sojina...  Sojina   \n",
       "163   /kaggle/input/ai-medleafx/Resized Image/Sojina...  Sojina   \n",
       "564   /kaggle/input/ai-medleafx/Resized Image/Sojina...  Sojina   \n",
       "3456  /kaggle/input/ai-medleafx/Resized Image/Neem/H...    Neem   \n",
       "2756  /kaggle/input/ai-medleafx/Resized Image/Neem/Y...    Neem   \n",
       "5116  /kaggle/input/ai-medleafx/Resized Image/Neem/S...    Neem   \n",
       "5137  /kaggle/input/ai-medleafx/Resized Image/Neem/S...    Neem   \n",
       "4653  /kaggle/input/ai-medleafx/Resized Image/Neem/S...    Neem   \n",
       "4996  /kaggle/input/ai-medleafx/Resized Image/Neem/S...    Neem   \n",
       "3133  /kaggle/input/ai-medleafx/Resized Image/Neem/Y...    Neem   \n",
       "\n",
       "               class    w    h  aspect      r_mean      g_mean      b_mean  \\\n",
       "66       Yellow Leaf  512  512     1.0  160.028275  156.220810  149.785942   \n",
       "163      Yellow Leaf  512  512     1.0  159.226933  155.918411  149.662823   \n",
       "564      Yellow Leaf  512  512     1.0  156.369686  152.919476  146.892197   \n",
       "3456    Healthy Leaf  512  512     1.0  177.550468  176.120110  165.834450   \n",
       "2756     Yellow Leaf  512  512     1.0  194.363499  189.378063  182.123089   \n",
       "5116  Shot Hole Leaf  512  512     1.0  178.933041  174.906815  166.188545   \n",
       "5137  Shot Hole Leaf  512  512     1.0  178.951237  175.286026  166.170212   \n",
       "4653  Shot Hole Leaf  512  512     1.0  174.176731  173.208309  166.241268   \n",
       "4996  Shot Hole Leaf  512  512     1.0  176.345886  172.500069  165.075932   \n",
       "3133     Yellow Leaf  512  512     1.0  155.108868  149.782352  142.972317   \n",
       "\n",
       "          r_std  ...     h_std      s_std      v_std  brightness   contrast  \\\n",
       "66    14.953594  ...  2.228038  17.617027  14.953624  160.028305  14.953624   \n",
       "163   15.953504  ...  2.741270  21.067908  15.953264  159.227245  15.953264   \n",
       "564   16.048074  ...  2.554639  18.383691  16.048339  156.370148  16.048339   \n",
       "3456  44.495581  ...  4.340096  21.134282  43.544244  177.936016  43.544244   \n",
       "2756  29.891815  ...  8.257076  28.132905  29.441090  194.516464  29.441090   \n",
       "5116  36.900441  ...  4.699028  17.843400  36.260684  179.137226  36.260684   \n",
       "5137  36.734594  ...  4.332454  18.030253  36.041645  179.174622  36.041645   \n",
       "4653  38.919710  ...  5.630523  24.262923  37.332015  174.813869  37.332015   \n",
       "4996  37.685482  ...  5.960229  23.839955  36.331709  176.865555  36.331709   \n",
       "3133  23.537562  ...  5.302045  33.414398  23.423040  155.143303  23.423040   \n",
       "\n",
       "       sat_low  sat_high       sharp       noise             phash  \n",
       "66    0.000000  0.000008  150.754179  122.804579  868c59f366cc9933  \n",
       "163   0.000000  0.000034  179.011365  122.978653  868c59f366cc9933  \n",
       "564   0.000000  0.000092  200.973521  122.894219  868c59f366cc9933  \n",
       "3456  0.000000  0.000031  253.108419  120.907624  90904fcf3031cfcf  \n",
       "2756  0.000000  0.000015  177.216589  119.145708  90904fcf3031cfcf  \n",
       "5116  0.000000  0.000000  233.425481  120.105944  90c5c73c38c3ce3d  \n",
       "5137  0.000000  0.000000  237.626122  120.765816  90c5c73c38c3ce3d  \n",
       "4653  0.000015  0.000000  204.823730  121.056272  9184cce33398cfcd  \n",
       "4996  0.000053  0.000000  166.904068  119.178679  9184cce33398cfcd  \n",
       "3133  0.000000  0.000027  115.505124  117.067940  9fe0c01f3fe0c01f  \n",
       "\n",
       "[10 rows x 25 columns]"
      ]
     },
     "execution_count": 11,
     "metadata": {},
     "output_type": "execute_result"
    }
   ],
   "source": [
    "dupes = stats[stats.duplicated('phash',keep=False)].sort_values('phash')\n",
    "dupes.head(10)"
   ]
  },
  {
   "cell_type": "markdown",
   "id": "dc8e8e4a",
   "metadata": {
    "papermill": {
     "duration": 0.283119,
     "end_time": "2025-10-14T11:30:11.579349",
     "exception": false,
     "start_time": "2025-10-14T11:30:11.296230",
     "status": "completed"
    },
    "tags": []
   },
   "source": [
    "The duplicate detection analysis using perceptual hashing successfully identifies visually identical images across different dataset classes and folders. Cleaning these duplicates is crucial to prevent bias and ensure the dataset’s integrity and generalization capacity during model training."
   ]
  },
  {
   "cell_type": "markdown",
   "id": "efce6436",
   "metadata": {
    "papermill": {
     "duration": 0.282827,
     "end_time": "2025-10-14T11:30:12.147093",
     "exception": false,
     "start_time": "2025-10-14T11:30:11.864266",
     "status": "completed"
    },
    "tags": []
   },
   "source": [
    "**Class Balance**"
   ]
  },
  {
   "cell_type": "code",
   "execution_count": 12,
   "id": "64093727",
   "metadata": {
    "execution": {
     "iopub.execute_input": "2025-10-14T11:30:12.802094Z",
     "iopub.status.busy": "2025-10-14T11:30:12.801811Z",
     "iopub.status.idle": "2025-10-14T11:30:12.972221Z",
     "shell.execute_reply": "2025-10-14T11:30:12.971514Z"
    },
    "papermill": {
     "duration": 0.457323,
     "end_time": "2025-10-14T11:30:12.973547",
     "exception": false,
     "start_time": "2025-10-14T11:30:12.516224",
     "status": "completed"
    },
    "tags": []
   },
   "outputs": [
    {
     "data": {
      "image/png": "[encoded data removed]",
      "text/plain": [
       "<Figure size 640x480 with 1 Axes>"
      ]
     },
     "metadata": {},
     "output_type": "display_data"
    }
   ],
   "source": [
    "sns.countplot(x='class',data=stats); plt.title('Class Balance'); plt.xticks(rotation=45); plt.show()"
   ]
  },
  {
   "cell_type": "markdown",
   "id": "5b8e5a93",
   "metadata": {
    "papermill": {
     "duration": 0.284297,
     "end_time": "2025-10-14T11:30:13.542671",
     "exception": false,
     "start_time": "2025-10-14T11:30:13.258374",
     "status": "completed"
    },
    "tags": []
   },
   "source": [
    "**Leakage Safeguards**"
   ]
  },
  {
   "cell_type": "code",
   "execution_count": 13,
   "id": "214a7a9d",
   "metadata": {
    "execution": {
     "iopub.execute_input": "2025-10-14T11:30:14.204864Z",
     "iopub.status.busy": "2025-10-14T11:30:14.204274Z",
     "iopub.status.idle": "2025-10-14T11:30:14.212140Z",
     "shell.execute_reply": "2025-10-14T11:30:14.211498Z"
    },
    "papermill": {
     "duration": 0.388358,
     "end_time": "2025-10-14T11:30:14.213277",
     "exception": false,
     "start_time": "2025-10-14T11:30:13.824919",
     "status": "completed"
    },
    "tags": []
   },
   "outputs": [
    {
     "data": {
      "text/plain": [
       "source\n",
       "Camphor     3\n",
       "HariTaki    3\n",
       "Neem        4\n",
       "Sojina      2\n",
       "Name: class, dtype: int64"
      ]
     },
     "execution_count": 13,
     "metadata": {},
     "output_type": "execute_result"
    }
   ],
   "source": [
    "stats.groupby('source')['class'].nunique()\n"
   ]
  },
  {
   "cell_type": "markdown",
   "id": "1ab8e9e4",
   "metadata": {
    "papermill": {
     "duration": 0.281952,
     "end_time": "2025-10-14T11:30:14.780731",
     "exception": false,
     "start_time": "2025-10-14T11:30:14.498779",
     "status": "completed"
    },
    "tags": []
   },
   "source": [
    "**Export Summary Tables**"
   ]
  },
  {
   "cell_type": "code",
   "execution_count": 14,
   "id": "abcf6cf0",
   "metadata": {
    "execution": {
     "iopub.execute_input": "2025-10-14T11:30:15.347000Z",
     "iopub.status.busy": "2025-10-14T11:30:15.346406Z",
     "iopub.status.idle": "2025-10-14T11:30:15.377062Z",
     "shell.execute_reply": "2025-10-14T11:30:15.376416Z"
    },
    "papermill": {
     "duration": 0.314276,
     "end_time": "2025-10-14T11:30:15.378221",
     "exception": false,
     "start_time": "2025-10-14T11:30:15.063945",
     "status": "completed"
    },
    "tags": []
   },
   "outputs": [
    {
     "data": {
      "text/html": [
       "<div>\n",
       "<style scoped>\n",
       "    .dataframe tbody tr th:only-of-type {\n",
       "        vertical-align: middle;\n",
       "    }\n",
       "\n",
       "    .dataframe tbody tr th {\n",
       "        vertical-align: top;\n",
       "    }\n",
       "\n",
       "    .dataframe thead tr th {\n",
       "        text-align: left;\n",
       "    }\n",
       "\n",
       "    .dataframe thead tr:last-of-type th {\n",
       "        text-align: right;\n",
       "    }\n",
       "</style>\n",
       "<table border=\"1\" class=\"dataframe\">\n",
       "  <thead>\n",
       "    <tr>\n",
       "      <th></th>\n",
       "      <th colspan=\"2\" halign=\"left\">r_mean</th>\n",
       "      <th colspan=\"2\" halign=\"left\">g_mean</th>\n",
       "      <th colspan=\"2\" halign=\"left\">b_mean</th>\n",
       "      <th colspan=\"2\" halign=\"left\">brightness</th>\n",
       "      <th colspan=\"2\" halign=\"left\">contrast</th>\n",
       "      <th colspan=\"2\" halign=\"left\">sharp</th>\n",
       "      <th colspan=\"2\" halign=\"left\">noise</th>\n",
       "    </tr>\n",
       "    <tr>\n",
       "      <th></th>\n",
       "      <th>mean</th>\n",
       "      <th>std</th>\n",
       "      <th>mean</th>\n",
       "      <th>std</th>\n",
       "      <th>mean</th>\n",
       "      <th>std</th>\n",
       "      <th>mean</th>\n",
       "      <th>std</th>\n",
       "      <th>mean</th>\n",
       "      <th>std</th>\n",
       "      <th>mean</th>\n",
       "      <th>std</th>\n",
       "      <th>mean</th>\n",
       "      <th>std</th>\n",
       "    </tr>\n",
       "    <tr>\n",
       "      <th>class</th>\n",
       "      <th></th>\n",
       "      <th></th>\n",
       "      <th></th>\n",
       "      <th></th>\n",
       "      <th></th>\n",
       "      <th></th>\n",
       "      <th></th>\n",
       "      <th></th>\n",
       "      <th></th>\n",
       "      <th></th>\n",
       "      <th></th>\n",
       "      <th></th>\n",
       "      <th></th>\n",
       "      <th></th>\n",
       "    </tr>\n",
       "  </thead>\n",
       "  <tbody>\n",
       "    <tr>\n",
       "      <th>Bacterial Spot</th>\n",
       "      <td>160.709394</td>\n",
       "      <td>7.254885</td>\n",
       "      <td>157.333899</td>\n",
       "      <td>6.978471</td>\n",
       "      <td>152.180446</td>\n",
       "      <td>7.987259</td>\n",
       "      <td>162.170847</td>\n",
       "      <td>7.037392</td>\n",
       "      <td>47.306542</td>\n",
       "      <td>7.453253</td>\n",
       "      <td>615.846366</td>\n",
       "      <td>290.421951</td>\n",
       "      <td>121.084274</td>\n",
       "      <td>1.570561</td>\n",
       "    </tr>\n",
       "    <tr>\n",
       "      <th>Healthy Leaf</th>\n",
       "      <td>170.283206</td>\n",
       "      <td>10.622789</td>\n",
       "      <td>167.525102</td>\n",
       "      <td>11.178234</td>\n",
       "      <td>159.329787</td>\n",
       "      <td>11.356366</td>\n",
       "      <td>171.587489</td>\n",
       "      <td>10.600217</td>\n",
       "      <td>39.743889</td>\n",
       "      <td>10.565371</td>\n",
       "      <td>295.189578</td>\n",
       "      <td>270.963537</td>\n",
       "      <td>120.039965</td>\n",
       "      <td>3.702568</td>\n",
       "    </tr>\n",
       "    <tr>\n",
       "      <th>Powdery Mildew</th>\n",
       "      <td>169.853415</td>\n",
       "      <td>9.532785</td>\n",
       "      <td>167.376122</td>\n",
       "      <td>9.538097</td>\n",
       "      <td>160.584658</td>\n",
       "      <td>7.606752</td>\n",
       "      <td>170.744393</td>\n",
       "      <td>9.343383</td>\n",
       "      <td>39.319775</td>\n",
       "      <td>5.718343</td>\n",
       "      <td>345.656387</td>\n",
       "      <td>143.484396</td>\n",
       "      <td>121.083321</td>\n",
       "      <td>1.726488</td>\n",
       "    </tr>\n",
       "    <tr>\n",
       "      <th>Shot Hole</th>\n",
       "      <td>166.328184</td>\n",
       "      <td>10.842942</td>\n",
       "      <td>163.423055</td>\n",
       "      <td>10.995412</td>\n",
       "      <td>155.741638</td>\n",
       "      <td>10.203501</td>\n",
       "      <td>167.806501</td>\n",
       "      <td>10.385852</td>\n",
       "      <td>50.127298</td>\n",
       "      <td>6.925815</td>\n",
       "      <td>643.302730</td>\n",
       "      <td>465.377881</td>\n",
       "      <td>119.638126</td>\n",
       "      <td>1.871179</td>\n",
       "    </tr>\n",
       "    <tr>\n",
       "      <th>Shot Hole Leaf</th>\n",
       "      <td>167.713791</td>\n",
       "      <td>10.799666</td>\n",
       "      <td>165.256113</td>\n",
       "      <td>11.042078</td>\n",
       "      <td>157.806967</td>\n",
       "      <td>9.560959</td>\n",
       "      <td>168.536241</td>\n",
       "      <td>10.817318</td>\n",
       "      <td>38.926528</td>\n",
       "      <td>4.682007</td>\n",
       "      <td>290.559146</td>\n",
       "      <td>111.266290</td>\n",
       "      <td>120.798671</td>\n",
       "      <td>2.061161</td>\n",
       "    </tr>\n",
       "  </tbody>\n",
       "</table>\n",
       "</div>"
      ],
      "text/plain": [
       "                    r_mean                 g_mean                 b_mean  \\\n",
       "                      mean        std        mean        std        mean   \n",
       "class                                                                      \n",
       "Bacterial Spot  160.709394   7.254885  157.333899   6.978471  152.180446   \n",
       "Healthy Leaf    170.283206  10.622789  167.525102  11.178234  159.329787   \n",
       "Powdery Mildew  169.853415   9.532785  167.376122   9.538097  160.584658   \n",
       "Shot Hole       166.328184  10.842942  163.423055  10.995412  155.741638   \n",
       "Shot Hole Leaf  167.713791  10.799666  165.256113  11.042078  157.806967   \n",
       "\n",
       "                           brightness              contrast             \\\n",
       "                      std        mean        std       mean        std   \n",
       "class                                                                    \n",
       "Bacterial Spot   7.987259  162.170847   7.037392  47.306542   7.453253   \n",
       "Healthy Leaf    11.356366  171.587489  10.600217  39.743889  10.565371   \n",
       "Powdery Mildew   7.606752  170.744393   9.343383  39.319775   5.718343   \n",
       "Shot Hole       10.203501  167.806501  10.385852  50.127298   6.925815   \n",
       "Shot Hole Leaf   9.560959  168.536241  10.817318  38.926528   4.682007   \n",
       "\n",
       "                     sharp                   noise            \n",
       "                      mean         std        mean       std  \n",
       "class                                                         \n",
       "Bacterial Spot  615.846366  290.421951  121.084274  1.570561  \n",
       "Healthy Leaf    295.189578  270.963537  120.039965  3.702568  \n",
       "Powdery Mildew  345.656387  143.484396  121.083321  1.726488  \n",
       "Shot Hole       643.302730  465.377881  119.638126  1.871179  \n",
       "Shot Hole Leaf  290.559146  111.266290  120.798671  2.061161  "
      ]
     },
     "execution_count": 14,
     "metadata": {},
     "output_type": "execute_result"
    }
   ],
   "source": [
    "summary = stats.groupby('class')[['r_mean','g_mean','b_mean','brightness','contrast','sharp','noise']].agg(['mean','std'])\n",
    "summary.to_csv('class_summary.csv')\n",
    "summary.head()\n"
   ]
  }
 ],
 "metadata": {
  "kaggle": {
   "accelerator": "gpu",
   "dataSources": [
    {
     "datasetId": 8450902,
     "sourceId": 13329590,
     "sourceType": "datasetVersion"
    },
    {
     "datasetId": 8451051,
     "sourceId": 13329776,
     "sourceType": "datasetVersion"
    }
   ],
   "dockerImageVersionId": 31154,
   "isGpuEnabled": true,
   "isInternetEnabled": false,
   "language": "python",
   "sourceType": "notebook"
  },
  "kernelspec": {
   "display_name": "Python 3",
   "language": "python",
   "name": "python3"
  },
  "language_info": {
   "codemirror_mode": {
    "name": "ipython",
    "version": 3
   },
   "file_extension": ".py",
   "mimetype": "text/x-python",
   "name": "python",
   "nbconvert_exporter": "python",
   "pygments_lexer": "ipython3",
   "version": "3.11.13"
  },
  "papermill": {
   "default_parameters": {},
   "duration": 943.851791,
   "end_time": "2025-10-14T11:30:16.275803",
   "environment_variables": {},
   "exception": null,
   "input_path": "__notebook__.ipynb",
   "output_path": "__notebook__.ipynb",
   "parameters": {},
   "start_time": "2025-10-14T11:14:32.424012",
   "version": "2.6.0"
  }
 },
 "nbformat": 4,
 "nbformat_minor": 5
}
